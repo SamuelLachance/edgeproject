{
 "cells": [
  {
   "cell_type": "code",
   "execution_count": 58,
   "metadata": {},
   "outputs": [],
   "source": [
    "import pandas as pd\n",
    "from sklearn import tree\n",
    "from sklearn.model_selection import GridSearchCV"
   ]
  },
  {
   "cell_type": "code",
   "execution_count": 59,
   "metadata": {},
   "outputs": [],
   "source": [
    "upset_data = pd.read_csv(\"upset_data.csv\")"
   ]
  },
  {
   "cell_type": "code",
   "execution_count": 60,
   "metadata": {},
   "outputs": [],
   "source": [
    "upset = upset_data.drop([\"Unnamed: 0.1\", \"Unnamed: 0\",\"LSEED\",\"LSCORE\",\"HSCORE\",\"HSEED\",\"HTEAM\",\"LTEAM\",\"ROUND\",\"G\",\"W\",\"SCORE_DIFF\",\"UPSET\"], axis = 1)"
   ]
  },
  {
   "cell_type": "code",
   "execution_count": 61,
   "metadata": {},
   "outputs": [],
   "source": [
    "X_train_cart = upset[upset[\"YEAR\"]<=2018]\n",
    "X_test_cart = upset[upset[\"YEAR\"]>2018]"
   ]
  },
  {
   "cell_type": "code",
   "execution_count": 62,
   "metadata": {},
   "outputs": [
    {
     "data": {
      "text/html": [
       "<div>\n",
       "<style scoped>\n",
       "    .dataframe tbody tr th:only-of-type {\n",
       "        vertical-align: middle;\n",
       "    }\n",
       "\n",
       "    .dataframe tbody tr th {\n",
       "        vertical-align: top;\n",
       "    }\n",
       "\n",
       "    .dataframe thead th {\n",
       "        text-align: right;\n",
       "    }\n",
       "</style>\n",
       "<table border=\"1\" class=\"dataframe\">\n",
       "  <thead>\n",
       "    <tr style=\"text-align: right;\">\n",
       "      <th></th>\n",
       "      <th>YEAR</th>\n",
       "      <th>ADJOE</th>\n",
       "      <th>ADJDE</th>\n",
       "      <th>BARTHAG</th>\n",
       "      <th>EFG_O</th>\n",
       "      <th>EFG_D</th>\n",
       "      <th>TOR</th>\n",
       "      <th>TORD</th>\n",
       "      <th>ORB</th>\n",
       "      <th>DRB</th>\n",
       "      <th>FTR</th>\n",
       "      <th>FTRD</th>\n",
       "      <th>X2P_O</th>\n",
       "      <th>X2P_D</th>\n",
       "      <th>X3P_O</th>\n",
       "      <th>X3P_D</th>\n",
       "      <th>ADJ_T</th>\n",
       "    </tr>\n",
       "  </thead>\n",
       "  <tbody>\n",
       "    <tr>\n",
       "      <th>0</th>\n",
       "      <td>2013</td>\n",
       "      <td>2.6</td>\n",
       "      <td>-2.3</td>\n",
       "      <td>0.0575</td>\n",
       "      <td>0.2</td>\n",
       "      <td>-1.9</td>\n",
       "      <td>5.8</td>\n",
       "      <td>0.3</td>\n",
       "      <td>12.9</td>\n",
       "      <td>-0.8</td>\n",
       "      <td>8.5</td>\n",
       "      <td>12.1</td>\n",
       "      <td>-0.1</td>\n",
       "      <td>-4.1</td>\n",
       "      <td>0.4</td>\n",
       "      <td>1.5</td>\n",
       "      <td>-5.5</td>\n",
       "    </tr>\n",
       "    <tr>\n",
       "      <th>1</th>\n",
       "      <td>2013</td>\n",
       "      <td>3.3</td>\n",
       "      <td>3.2</td>\n",
       "      <td>-0.0056</td>\n",
       "      <td>-2.0</td>\n",
       "      <td>2.5</td>\n",
       "      <td>-1.7</td>\n",
       "      <td>-1.1</td>\n",
       "      <td>2.7</td>\n",
       "      <td>-5.4</td>\n",
       "      <td>9.1</td>\n",
       "      <td>6.7</td>\n",
       "      <td>-3.0</td>\n",
       "      <td>3.0</td>\n",
       "      <td>0.2</td>\n",
       "      <td>0.9</td>\n",
       "      <td>-2.9</td>\n",
       "    </tr>\n",
       "    <tr>\n",
       "      <th>2</th>\n",
       "      <td>2013</td>\n",
       "      <td>2.8</td>\n",
       "      <td>11.3</td>\n",
       "      <td>-0.1066</td>\n",
       "      <td>0.5</td>\n",
       "      <td>3.4</td>\n",
       "      <td>0.2</td>\n",
       "      <td>3.5</td>\n",
       "      <td>1.5</td>\n",
       "      <td>4.9</td>\n",
       "      <td>9.1</td>\n",
       "      <td>5.4</td>\n",
       "      <td>1.4</td>\n",
       "      <td>3.4</td>\n",
       "      <td>-0.6</td>\n",
       "      <td>2.4</td>\n",
       "      <td>9.0</td>\n",
       "    </tr>\n",
       "    <tr>\n",
       "      <th>3</th>\n",
       "      <td>2013</td>\n",
       "      <td>11.8</td>\n",
       "      <td>-10.0</td>\n",
       "      <td>0.2949</td>\n",
       "      <td>1.3</td>\n",
       "      <td>-3.2</td>\n",
       "      <td>-1.8</td>\n",
       "      <td>1.6</td>\n",
       "      <td>3.6</td>\n",
       "      <td>3.3</td>\n",
       "      <td>-4.6</td>\n",
       "      <td>-1.7</td>\n",
       "      <td>3.0</td>\n",
       "      <td>-2.2</td>\n",
       "      <td>-1.0</td>\n",
       "      <td>-3.2</td>\n",
       "      <td>0.8</td>\n",
       "    </tr>\n",
       "    <tr>\n",
       "      <th>4</th>\n",
       "      <td>2013</td>\n",
       "      <td>4.5</td>\n",
       "      <td>-0.1</td>\n",
       "      <td>0.0688</td>\n",
       "      <td>1.1</td>\n",
       "      <td>4.2</td>\n",
       "      <td>5.1</td>\n",
       "      <td>3.3</td>\n",
       "      <td>6.6</td>\n",
       "      <td>2.0</td>\n",
       "      <td>2.7</td>\n",
       "      <td>6.7</td>\n",
       "      <td>1.9</td>\n",
       "      <td>4.2</td>\n",
       "      <td>-1.5</td>\n",
       "      <td>2.7</td>\n",
       "      <td>1.3</td>\n",
       "    </tr>\n",
       "    <tr>\n",
       "      <th>...</th>\n",
       "      <td>...</td>\n",
       "      <td>...</td>\n",
       "      <td>...</td>\n",
       "      <td>...</td>\n",
       "      <td>...</td>\n",
       "      <td>...</td>\n",
       "      <td>...</td>\n",
       "      <td>...</td>\n",
       "      <td>...</td>\n",
       "      <td>...</td>\n",
       "      <td>...</td>\n",
       "      <td>...</td>\n",
       "      <td>...</td>\n",
       "      <td>...</td>\n",
       "      <td>...</td>\n",
       "      <td>...</td>\n",
       "      <td>...</td>\n",
       "    </tr>\n",
       "    <tr>\n",
       "      <th>283</th>\n",
       "      <td>2018</td>\n",
       "      <td>12.6</td>\n",
       "      <td>-4.4</td>\n",
       "      <td>0.1604</td>\n",
       "      <td>4.8</td>\n",
       "      <td>-4.0</td>\n",
       "      <td>2.2</td>\n",
       "      <td>-5.3</td>\n",
       "      <td>7.8</td>\n",
       "      <td>1.8</td>\n",
       "      <td>4.5</td>\n",
       "      <td>-18.3</td>\n",
       "      <td>5.6</td>\n",
       "      <td>-5.2</td>\n",
       "      <td>2.0</td>\n",
       "      <td>-1.2</td>\n",
       "      <td>1.3</td>\n",
       "    </tr>\n",
       "    <tr>\n",
       "      <th>284</th>\n",
       "      <td>2018</td>\n",
       "      <td>7.5</td>\n",
       "      <td>-8.5</td>\n",
       "      <td>0.3621</td>\n",
       "      <td>0.4</td>\n",
       "      <td>-2.5</td>\n",
       "      <td>0.0</td>\n",
       "      <td>0.9</td>\n",
       "      <td>0.0</td>\n",
       "      <td>3.6</td>\n",
       "      <td>3.6</td>\n",
       "      <td>6.0</td>\n",
       "      <td>5.3</td>\n",
       "      <td>-2.1</td>\n",
       "      <td>-4.1</td>\n",
       "      <td>-2.0</td>\n",
       "      <td>-2.8</td>\n",
       "    </tr>\n",
       "    <tr>\n",
       "      <th>285</th>\n",
       "      <td>2018</td>\n",
       "      <td>-3.7</td>\n",
       "      <td>3.4</td>\n",
       "      <td>-0.0781</td>\n",
       "      <td>6.9</td>\n",
       "      <td>0.7</td>\n",
       "      <td>1.2</td>\n",
       "      <td>-1.0</td>\n",
       "      <td>-11.3</td>\n",
       "      <td>-5.2</td>\n",
       "      <td>-3.3</td>\n",
       "      <td>-12.4</td>\n",
       "      <td>9.3</td>\n",
       "      <td>1.0</td>\n",
       "      <td>1.8</td>\n",
       "      <td>0.2</td>\n",
       "      <td>-0.7</td>\n",
       "    </tr>\n",
       "    <tr>\n",
       "      <th>286</th>\n",
       "      <td>2018</td>\n",
       "      <td>12.1</td>\n",
       "      <td>-6.7</td>\n",
       "      <td>0.2720</td>\n",
       "      <td>-4.3</td>\n",
       "      <td>0.0</td>\n",
       "      <td>-0.7</td>\n",
       "      <td>4.9</td>\n",
       "      <td>14.6</td>\n",
       "      <td>-2.2</td>\n",
       "      <td>-1.8</td>\n",
       "      <td>15.2</td>\n",
       "      <td>-6.7</td>\n",
       "      <td>-3.3</td>\n",
       "      <td>-0.6</td>\n",
       "      <td>3.0</td>\n",
       "      <td>-4.7</td>\n",
       "    </tr>\n",
       "    <tr>\n",
       "      <th>287</th>\n",
       "      <td>2018</td>\n",
       "      <td>7.1</td>\n",
       "      <td>0.4</td>\n",
       "      <td>0.0416</td>\n",
       "      <td>3.7</td>\n",
       "      <td>-4.9</td>\n",
       "      <td>0.1</td>\n",
       "      <td>-1.8</td>\n",
       "      <td>0.4</td>\n",
       "      <td>3.4</td>\n",
       "      <td>9.5</td>\n",
       "      <td>-11.1</td>\n",
       "      <td>-0.2</td>\n",
       "      <td>-4.0</td>\n",
       "      <td>6.3</td>\n",
       "      <td>-4.1</td>\n",
       "      <td>-0.4</td>\n",
       "    </tr>\n",
       "  </tbody>\n",
       "</table>\n",
       "<p>288 rows × 17 columns</p>\n",
       "</div>"
      ],
      "text/plain": [
       "     YEAR  ADJOE  ADJDE  BARTHAG  EFG_O  EFG_D  TOR  TORD   ORB  DRB  FTR  \\\n",
       "0    2013    2.6   -2.3   0.0575    0.2   -1.9  5.8   0.3  12.9 -0.8  8.5   \n",
       "1    2013    3.3    3.2  -0.0056   -2.0    2.5 -1.7  -1.1   2.7 -5.4  9.1   \n",
       "2    2013    2.8   11.3  -0.1066    0.5    3.4  0.2   3.5   1.5  4.9  9.1   \n",
       "3    2013   11.8  -10.0   0.2949    1.3   -3.2 -1.8   1.6   3.6  3.3 -4.6   \n",
       "4    2013    4.5   -0.1   0.0688    1.1    4.2  5.1   3.3   6.6  2.0  2.7   \n",
       "..    ...    ...    ...      ...    ...    ...  ...   ...   ...  ...  ...   \n",
       "283  2018   12.6   -4.4   0.1604    4.8   -4.0  2.2  -5.3   7.8  1.8  4.5   \n",
       "284  2018    7.5   -8.5   0.3621    0.4   -2.5  0.0   0.9   0.0  3.6  3.6   \n",
       "285  2018   -3.7    3.4  -0.0781    6.9    0.7  1.2  -1.0 -11.3 -5.2 -3.3   \n",
       "286  2018   12.1   -6.7   0.2720   -4.3    0.0 -0.7   4.9  14.6 -2.2 -1.8   \n",
       "287  2018    7.1    0.4   0.0416    3.7   -4.9  0.1  -1.8   0.4  3.4  9.5   \n",
       "\n",
       "     FTRD  X2P_O  X2P_D  X3P_O  X3P_D  ADJ_T  \n",
       "0    12.1   -0.1   -4.1    0.4    1.5   -5.5  \n",
       "1     6.7   -3.0    3.0    0.2    0.9   -2.9  \n",
       "2     5.4    1.4    3.4   -0.6    2.4    9.0  \n",
       "3    -1.7    3.0   -2.2   -1.0   -3.2    0.8  \n",
       "4     6.7    1.9    4.2   -1.5    2.7    1.3  \n",
       "..    ...    ...    ...    ...    ...    ...  \n",
       "283 -18.3    5.6   -5.2    2.0   -1.2    1.3  \n",
       "284   6.0    5.3   -2.1   -4.1   -2.0   -2.8  \n",
       "285 -12.4    9.3    1.0    1.8    0.2   -0.7  \n",
       "286  15.2   -6.7   -3.3   -0.6    3.0   -4.7  \n",
       "287 -11.1   -0.2   -4.0    6.3   -4.1   -0.4  \n",
       "\n",
       "[288 rows x 17 columns]"
      ]
     },
     "execution_count": 62,
     "metadata": {},
     "output_type": "execute_result"
    }
   ],
   "source": [
    "X_train_cart"
   ]
  },
  {
   "cell_type": "code",
   "execution_count": 63,
   "metadata": {},
   "outputs": [],
   "source": [
    "X_train = X_train_cart.drop([\"YEAR\"], axis =1 )\n",
    "X_test= X_test_cart.drop([\"YEAR\"], axis =1 )\n",
    "Y_train = upset_data[upset_data[\"YEAR\"]<=2018][\"UPSET\"]\n",
    "Y_test = upset_data[upset_data[\"YEAR\"]>2018][\"UPSET\"]\n",
    "\n"
   ]
  },
  {
   "cell_type": "code",
   "execution_count": 64,
   "metadata": {},
   "outputs": [],
   "source": [
    "dat_21 = pd.read_csv(\"r1games_2021.csv\")"
   ]
  },
  {
   "cell_type": "code",
   "execution_count": 70,
   "metadata": {},
   "outputs": [],
   "source": [
    "data_21_new = dat_21.drop([\"Unnamed: 0\",\"LSEED\",\"HSEED\",\"HTEAM\",\"LTEAM\",\"ROUND\",\"G\",\"W\"], axis = 1)"
   ]
  },
  {
   "cell_type": "code",
   "execution_count": 71,
   "metadata": {},
   "outputs": [],
   "source": [
    "old_data_21 = upset_data[upset_data[\"YEAR\"]>=2021].drop([\"UPSET\",\"SCORE_DIFF\",\"YEAR\"], axis = 1)"
   ]
  },
  {
   "cell_type": "code",
   "execution_count": 72,
   "metadata": {},
   "outputs": [],
   "source": [
    "data_21_new = data_21_new.drop([\"YEAR\", \"WAB\"], axis = 1) * -1"
   ]
  },
  {
   "cell_type": "code",
   "execution_count": 65,
   "metadata": {},
   "outputs": [],
   "source": [
    "\n",
    "clf = tree.DecisionTreeClassifier(max_depth = 3)\n",
    "clf = clf.fit(X_train,Y_train)"
   ]
  },
  {
   "cell_type": "code",
   "execution_count": 66,
   "metadata": {},
   "outputs": [],
   "source": [
    "preds = clf.predict(X_test)"
   ]
  },
  {
   "cell_type": "code",
   "execution_count": 67,
   "metadata": {},
   "outputs": [
    {
     "data": {
      "text/plain": [
       "array([1., 0., 0., 0., 0., 1., 0., 0., 0., 0., 0., 0., 0., 0., 1., 1., 0.,\n",
       "       1., 0., 0., 1., 0., 0., 0., 0., 0., 1., 0., 0., 1., 0., 0., 0., 0.,\n",
       "       0., 0., 0., 0., 0., 0., 0., 0., 0., 0., 1., 0., 0., 0., 0., 0., 0.,\n",
       "       1., 0., 1., 0., 0., 1., 0., 0., 0., 1., 0., 0., 0., 0., 1., 1., 1.,\n",
       "       0., 0., 0., 0., 0., 0., 0., 1., 0., 0., 0., 0., 1., 1., 1., 1., 0.,\n",
       "       0., 0., 0., 0., 0., 0., 1., 0., 0., 0.])"
      ]
     },
     "execution_count": 67,
     "metadata": {},
     "output_type": "execute_result"
    }
   ],
   "source": [
    "preds"
   ]
  },
  {
   "cell_type": "code",
   "execution_count": 68,
   "metadata": {},
   "outputs": [
    {
     "data": {
      "text/plain": [
       "0.9157894736842105"
      ]
     },
     "execution_count": 68,
     "metadata": {},
     "output_type": "execute_result"
    }
   ],
   "source": [
    "clf.score(X_test,Y_test)"
   ]
  },
  {
   "cell_type": "code",
   "execution_count": 69,
   "metadata": {},
   "outputs": [
    {
     "data": {
      "text/plain": [
       "-8.0"
      ]
     },
     "execution_count": 69,
     "metadata": {},
     "output_type": "execute_result"
    }
   ],
   "source": [
    "sum(preds-Y_test)"
   ]
  },
  {
   "cell_type": "code",
   "execution_count": 70,
   "metadata": {},
   "outputs": [
    {
     "data": {
      "text/plain": [
       "array([0.        , 0.        , 0.91416003, 0.        , 0.        ,\n",
       "       0.        , 0.02960757, 0.        , 0.        , 0.        ,\n",
       "       0.        , 0.        , 0.        , 0.        , 0.        ,\n",
       "       0.0562324 ])"
      ]
     },
     "execution_count": 70,
     "metadata": {},
     "output_type": "execute_result"
    }
   ],
   "source": [
    "clf.feature_importances_"
   ]
  },
  {
   "cell_type": "code",
   "execution_count": 72,
   "metadata": {},
   "outputs": [
    {
     "data": {
      "text/plain": [
       "array(['ADJOE', 'ADJDE', 'BARTHAG', 'EFG_O', 'EFG_D', 'TOR', 'TORD',\n",
       "       'ORB', 'DRB', 'FTR', 'FTRD', 'X2P_O', 'X2P_D', 'X3P_O', 'X3P_D',\n",
       "       'ADJ_T'], dtype=object)"
      ]
     },
     "execution_count": 72,
     "metadata": {},
     "output_type": "execute_result"
    }
   ],
   "source": [
    "clf.feature_names_in_"
   ]
  },
  {
   "cell_type": "code",
   "execution_count": 71,
   "metadata": {},
   "outputs": [
    {
     "data": {
      "text/plain": [
       "[Text(0.4230769230769231, 0.875, 'X[2] <= -0.013\\ngini = 0.392\\nsamples = 288\\nvalue = [211, 77]'),\n",
       " Text(0.15384615384615385, 0.625, 'X[6] <= 1.55\\ngini = 0.18\\nsamples = 60\\nvalue = [6, 54]'),\n",
       " Text(0.07692307692307693, 0.375, 'gini = 0.0\\nsamples = 39\\nvalue = [0, 39]'),\n",
       " Text(0.23076923076923078, 0.375, 'X[2] <= -0.04\\ngini = 0.408\\nsamples = 21\\nvalue = [6, 15]'),\n",
       " Text(0.15384615384615385, 0.125, 'gini = 0.0\\nsamples = 10\\nvalue = [0, 10]'),\n",
       " Text(0.3076923076923077, 0.125, 'gini = 0.496\\nsamples = 11\\nvalue = [6, 5]'),\n",
       " Text(0.6923076923076923, 0.625, 'X[2] <= 0.068\\ngini = 0.181\\nsamples = 228\\nvalue = [205, 23]'),\n",
       " Text(0.5384615384615384, 0.375, 'X[15] <= -1.95\\ngini = 0.368\\nsamples = 74\\nvalue = [56, 18]'),\n",
       " Text(0.46153846153846156, 0.125, 'gini = 0.499\\nsamples = 25\\nvalue = [13, 12]'),\n",
       " Text(0.6153846153846154, 0.125, 'gini = 0.215\\nsamples = 49\\nvalue = [43, 6]'),\n",
       " Text(0.8461538461538461, 0.375, 'X[2] <= 0.153\\ngini = 0.063\\nsamples = 154\\nvalue = [149, 5]'),\n",
       " Text(0.7692307692307693, 0.125, 'gini = 0.165\\nsamples = 55\\nvalue = [50, 5]'),\n",
       " Text(0.9230769230769231, 0.125, 'gini = 0.0\\nsamples = 99\\nvalue = [99, 0]')]"
      ]
     },
     "execution_count": 71,
     "metadata": {},
     "output_type": "execute_result"
    },
    {
     "data": {
      "image/png": "[encoded data removed]",
      "text/plain": [
       "<Figure size 432x288 with 1 Axes>"
      ]
     },
     "metadata": {
      "needs_background": "light"
     },
     "output_type": "display_data"
    }
   ],
   "source": [
    "tree.plot_tree(clf)"
   ]
  },
  {
   "cell_type": "code",
   "execution_count": 30,
   "metadata": {},
   "outputs": [
    {
     "data": {
      "text/plain": [
       "0.9027777777777778"
      ]
     },
     "execution_count": 30,
     "metadata": {},
     "output_type": "execute_result"
    }
   ],
   "source": [
    "clf.score(X_train,Y_train)"
   ]
  },
  {
   "cell_type": "code",
   "execution_count": 14,
   "metadata": {},
   "outputs": [
    {
     "data": {
      "text/plain": [
       "array([[65,  0],\n",
       "       [ 8, 22]])"
      ]
     },
     "execution_count": 14,
     "metadata": {},
     "output_type": "execute_result"
    }
   ],
   "source": [
    "from sklearn import metrics \n",
    "metrics.confusion_matrix(Y_test, clf.predict(X_test))"
   ]
  },
  {
   "cell_type": "markdown",
   "metadata": {},
   "source": [
    "## XGBoost Classifier"
   ]
  },
  {
   "cell_type": "code",
   "execution_count": 41,
   "metadata": {},
   "outputs": [],
   "source": [
    "import xgboost as xgb\n",
    "xgbC = xgb.XGBClassifier(max_depth = 3)"
   ]
  },
  {
   "cell_type": "code",
   "execution_count": 42,
   "metadata": {},
   "outputs": [
    {
     "data": {
      "text/plain": [
       "XGBClassifier(base_score=0.5, booster='gbtree', callbacks=None,\n",
       "              colsample_bylevel=1, colsample_bynode=1, colsample_bytree=1,\n",
       "              early_stopping_rounds=None, enable_categorical=False,\n",
       "              eval_metric=None, feature_types=None, gamma=0, gpu_id=-1,\n",
       "              grow_policy='depthwise', importance_type=None,\n",
       "              interaction_constraints='', learning_rate=0.300000012,\n",
       "              max_bin=256, max_cat_threshold=64, max_cat_to_onehot=4,\n",
       "              max_delta_step=0, max_depth=3, max_leaves=0, min_child_weight=1,\n",
       "              missing=nan, monotone_constraints='()', n_estimators=100,\n",
       "              n_jobs=0, num_parallel_tree=1, predictor='auto', random_state=0, ...)"
      ]
     },
     "execution_count": 42,
     "metadata": {},
     "output_type": "execute_result"
    }
   ],
   "source": [
    "xgbC.fit(X_train, Y_train)"
   ]
  },
  {
   "cell_type": "code",
   "execution_count": 43,
   "metadata": {},
   "outputs": [
    {
     "data": {
      "text/plain": [
       "0.9052631578947369"
      ]
     },
     "execution_count": 43,
     "metadata": {},
     "output_type": "execute_result"
    }
   ],
   "source": [
    "xgbC.score(X_test,Y_test)"
   ]
  },
  {
   "cell_type": "code",
   "execution_count": 44,
   "metadata": {},
   "outputs": [
    {
     "data": {
      "text/plain": [
       "1.0"
      ]
     },
     "execution_count": 44,
     "metadata": {},
     "output_type": "execute_result"
    }
   ],
   "source": [
    "xgbC.score(X_train,Y_train)"
   ]
  },
  {
   "cell_type": "code",
   "execution_count": 73,
   "metadata": {},
   "outputs": [
    {
     "name": "stdout",
     "output_type": "stream",
     "text": [
      "Fitting 5 folds for each of 144 candidates, totalling 720 fits\n"
     ]
    },
    {
     "data": {
      "text/plain": [
       "GridSearchCV(cv=5,\n",
       "             estimator=XGBClassifier(base_score=None, booster=None,\n",
       "                                     callbacks=None, colsample_bylevel=None,\n",
       "                                     colsample_bynode=None,\n",
       "                                     colsample_bytree=None,\n",
       "                                     early_stopping_rounds=None,\n",
       "                                     enable_categorical=False, eval_metric=None,\n",
       "                                     feature_types=None, gamma=None,\n",
       "                                     gpu_id=None, grow_policy=None,\n",
       "                                     importance_type=None,\n",
       "                                     interaction_constraints=None,\n",
       "                                     learning_rate=None,...\n",
       "                                     max_delta_step=None, max_depth=None,\n",
       "                                     max_leaves=None, min_child_weight=None,\n",
       "                                     missing=nan, monotone_constraints=None,\n",
       "                                     n_estimators=100, n_jobs=None,\n",
       "                                     num_parallel_tree=None, predictor=None,\n",
       "                                     random_state=None, ...),\n",
       "             n_jobs=5,\n",
       "             param_grid={'learning_rate': [0.0001, 0.001, 0.01, 0.1, 0.2, 0.3],\n",
       "                         'max_depth': [2, 3, 4, 5],\n",
       "                         'n_estimators': [20, 50, 100, 300, 500, 1000]},\n",
       "             scoring='accuracy', verbose=True)"
      ]
     },
     "execution_count": 73,
     "metadata": {},
     "output_type": "execute_result"
    }
   ],
   "source": [
    "params = {'learning_rate': [0.0001, 0.001, 0.01, 0.1, 0.2, 0.3],\n",
    "        'max_depth': [2, 3, 4, 5],\n",
    "        'n_estimators': [20,50,100,300,500,1000]\n",
    "        }\n",
    "\n",
    "xgb_grid = GridSearchCV(xgb.XGBClassifier(),\n",
    "                        params,\n",
    "                        cv = 5,\n",
    "                        n_jobs = 5,\n",
    "                        scoring = 'accuracy',\n",
    "                        verbose=True)\n",
    "\n",
    "xgb_grid.fit(X_train,Y_train)"
   ]
  },
  {
   "cell_type": "code",
   "execution_count": 74,
   "metadata": {},
   "outputs": [
    {
     "data": {
      "text/plain": [
       "0.9263157894736842"
      ]
     },
     "execution_count": 74,
     "metadata": {},
     "output_type": "execute_result"
    }
   ],
   "source": [
    "xgb_grid.best_estimator_.score(X_test,Y_test)\n"
   ]
  },
  {
   "cell_type": "code",
   "execution_count": 47,
   "metadata": {},
   "outputs": [
    {
     "ename": "NameError",
     "evalue": "name 'metrics' is not defined",
     "output_type": "error",
     "traceback": [
      "\u001b[0;31m---------------------------------------------------------------------------\u001b[0m",
      "\u001b[0;31mNameError\u001b[0m                                 Traceback (most recent call last)",
      "\u001b[1;32m/Users/PaulaPieper/Documents/GitHub/edgeproject/tree_classification.ipynb Cell 27\u001b[0m in \u001b[0;36m<cell line: 1>\u001b[0;34m()\u001b[0m\n\u001b[0;32m----> <a href='vscode-notebook-cell:/Users/PaulaPieper/Documents/GitHub/edgeproject/tree_classification.ipynb#X32sZmlsZQ%3D%3D?line=0'>1</a>\u001b[0m metrics\u001b[39m.\u001b[39mconfusion_matrix(Y_test,xgb_grid\u001b[39m.\u001b[39mbest_estimator_\u001b[39m.\u001b[39mpredict(X_test))\n",
      "\u001b[0;31mNameError\u001b[0m: name 'metrics' is not defined"
     ]
    }
   ],
   "source": [
    "metrics.confusion_matrix(Y_test,xgb_grid.best_estimator_.predict(X_test))"
   ]
  },
  {
   "cell_type": "code",
   "execution_count": 75,
   "metadata": {},
   "outputs": [
    {
     "data": {
      "text/plain": [
       "array(['ADJOE', 'ADJDE', 'BARTHAG', 'EFG_O', 'EFG_D', 'TOR', 'TORD',\n",
       "       'ORB', 'DRB', 'FTR', 'FTRD', 'X2P_O', 'X2P_D', 'X3P_O', 'X3P_D',\n",
       "       'ADJ_T'], dtype='<U7')"
      ]
     },
     "execution_count": 75,
     "metadata": {},
     "output_type": "execute_result"
    }
   ],
   "source": [
    "xgb_grid.feature_names_in_"
   ]
  },
  {
   "cell_type": "code",
   "execution_count": 76,
   "metadata": {},
   "outputs": [
    {
     "data": {
      "text/plain": [
       "array([0.12053304, 0.08568837, 0.34055173, 0.0213714 , 0.06790414,\n",
       "       0.        , 0.05504223, 0.02532259, 0.04909773, 0.07193819,\n",
       "       0.04092709, 0.        , 0.        , 0.03016354, 0.0447606 ,\n",
       "       0.04669933], dtype=float32)"
      ]
     },
     "execution_count": 76,
     "metadata": {},
     "output_type": "execute_result"
    }
   ],
   "source": [
    "xgb_grid.best_estimator_.feature_importances_"
   ]
  },
  {
   "cell_type": "code",
   "execution_count": null,
   "metadata": {},
   "outputs": [],
   "source": []
  }
 ],
 "metadata": {
  "kernelspec": {
   "display_name": "Python 3.9.12 ('base')",
   "language": "python",
   "name": "python3"
  },
  "language_info": {
   "codemirror_mode": {
    "name": "ipython",
    "version": 3
   },
   "file_extension": ".py",
   "mimetype": "text/x-python",
   "name": "python",
   "nbconvert_exporter": "python",
   "pygments_lexer": "ipython3",
   "version": "3.9.12"
  },
  "orig_nbformat": 4,
  "vscode": {
   "interpreter": {
    "hash": "ce18873209c0db1ef8dc01f55b4d58d7878087d79e56bac8e4ee0a4914210f64"
   }
  }
 },
 "nbformat": 4,
 "nbformat_minor": 2
}
